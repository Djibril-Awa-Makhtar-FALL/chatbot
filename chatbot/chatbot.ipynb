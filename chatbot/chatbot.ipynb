{
 "cells": [
  {
   "cell_type": "code",
   "execution_count": 9,
   "id": "4a6de57d-69c4-44f6-982c-84dff051593b",
   "metadata": {},
   "outputs": [
    {
     "name": "stderr",
     "output_type": "stream",
     "text": [
      "[nltk_data] Downloading package punkt to\n",
      "[nltk_data]     C:\\Users\\DELL\\AppData\\Roaming\\nltk_data...\n",
      "[nltk_data]   Package punkt is already up-to-date!\n",
      "[nltk_data] Downloading package punkt_tab to\n",
      "[nltk_data]     C:\\Users\\DELL\\AppData\\Roaming\\nltk_data...\n",
      "[nltk_data]   Package punkt_tab is already up-to-date!\n",
      "[nltk_data] Downloading package stopwords to\n",
      "[nltk_data]     C:\\Users\\DELL\\AppData\\Roaming\\nltk_data...\n",
      "[nltk_data]   Package stopwords is already up-to-date!\n",
      "[nltk_data] Downloading package averaged_perceptron_tagger to\n",
      "[nltk_data]     C:\\Users\\DELL\\AppData\\Roaming\\nltk_data...\n",
      "[nltk_data]   Package averaged_perceptron_tagger is already up-to-\n",
      "[nltk_data]       date!\n"
     ]
    }
   ],
   "source": [
    "import nltk\n",
    "\n",
    "nltk.download('punkt')\n",
    "\n",
    "nltk.download('punkt_tab')\n",
    "\n",
    "nltk.download('stopwords')\n",
    "\n",
    "nltk.download('averaged_perceptron_tagger')\n",
    "\n",
    "from sklearn.feature_extraction.text import TfidfVectorizer\n",
    "\n",
    "from sklearn.metrics.pairwise import cosine_similarity\n",
    "\n",
    "from nltk.tokenize import word_tokenize, sent_tokenize\n",
    "\n",
    "from nltk.corpus import stopwords\n",
    "\n",
    "from nltk.tokenize import sent_tokenize\n",
    "\n",
    "from nltk.stem import WordNetLemmatizer\n",
    "\n",
    "import string\n",
    "import random\n",
    "import re\n",
    "\n",
    "import streamlit as st"
   ]
  },
  {
   "cell_type": "code",
   "execution_count": 104,
   "id": "d81c7a7c-c316-4495-b052-bc3c08dbe326",
   "metadata": {},
   "outputs": [],
   "source": [
    "# chargement du fichier text\n",
    "chemin_fichier = r\"C:\\Users\\DELL\\Desktop\\chatboot\\statistique.txt\"\n",
    "try:\n",
    "    with open(chemin_fichier, 'r', encoding='utf-8') as fichier:\n",
    "        contenu = fichier.read()\n",
    "        #print(contenu)\n",
    "except FileNotFoundError:\n",
    "    print(\"Le fichier n'a pas été trouvé. Vérifiez le chemin et l'existence du fichier.\")\n",
    "except Exception as e:\n",
    "    print(f\"Une erreur est survenue : {e}\")\n",
    "def preprocess(text):\n",
    "    # Convertir le texte en minuscules\n",
    "    text = text.lower()\n",
    "    \n",
    "    # Supprimer les chiffres\n",
    "    text = re.sub(r'\\d+', '', text)\n",
    "    \n",
    "    # Supprimer la ponctuation\n",
    "    text = re.sub(r'[^\\w\\s]', '', text)\n",
    "    \n",
    "    # Tokenisation\n",
    "    words = text.split()\n",
    "    \n",
    "    # Liste des mots vides (vous pouvez ajouter ou modifier cette liste)\n",
    "    stop_words = set(stopwords.words('french'))  # Adapter la langue selon vos besoins\n",
    "    stop_words.update(['à', 'de', 'et', 'la', 'le', 'les', 'des', 'un', 'une'])  # Mots vides supplémentaires\n",
    "    \n",
    "    # Filtrer les mots vides\n",
    "    filtered_words = [word for word in words if word not in stop_words]\n",
    "    \n",
    "    # Rejoindre les mots filtrés en une seule chaîne\n",
    "    processed_text = ' '.join(filtered_words)\n",
    "    \n",
    "    return processed_text"
   ]
  },
  {
   "cell_type": "code",
   "execution_count": 159,
   "id": "f6b7d5eb-bbca-4ad2-8e59-19f1a49cd0b0",
   "metadata": {},
   "outputs": [],
   "source": [
    "# Dictionnaire de questions avec plusieurs réponses possibles\n",
    "responses = {\n",
    "    \"qu'est-ce que la fonction de répartition ?\": [\n",
    "        \"Soit X une variable aléatoire, on appelle fonction de répartition de X, que l’on note F_X, la fonction définie sur R par : F_X(x) = P(X ≤ x).\"\n",
    "    ],\n",
    "    \"qu'est-ce qu'une quantile d'ordre q ?\": [\n",
    "        \"On appelle quantile d’ordre q de la variable X, où q ∈ [0, 1], la valeur xq telle que P(X ≤ xq) = q ou, de même, FX(xq) = q.\"\n",
    "    ],\n",
    "    \"qu'est-ce que la théorie des probabilités ?\": [\n",
    "        \"\"\"La théorie des probabilités a pour objet l’étude des phénomènes aléatoires\n",
    "        ou du moins considérés comme tels par l’observateur. Pour cela, on introduit le concept d’expérience aléatoire dont l’ensemble des résultats possibles\n",
    "        constitue l’ensemble fondamental, noté habituellement Ω.\"\"\"\n",
    "    ],\n",
    "    \"qu'est-ce qu'une variable aléatoire ?\": [\n",
    "        \"\"\"On parle de variable aléatoire (abréviation : v.a.) lorsque les résultats sont numériques, c’est-à-dire\n",
    "        que Ω est identique à tout ou une partie de l’ensemble des nombres réels R. \n",
    "        On distingue habituellement :\n",
    "        - les variables aléatoires discrètes pour lesquelles l’ensemble Ω des résultats possibles est un ensemble discret de valeurs numériques x1, x2, ..., xn, \n",
    "        fini ou infini (typiquement : l’ensemble des entiers naturels) ;\n",
    "        - les variables aléatoires continues pour lesquelles l’ensemble Ω est tout R (ou un intervalle de R ou, plus rarement, une union d’intervalles).\"\"\"\n",
    "    ],\n",
    "    \"qu'est-ce qu'une espérance mathématique ?\": [\n",
    "        \"\"\"On appelle espérance mathématique de X, si elle existe, la valeur notée E(X) telle que :\n",
    "        \n",
    "        E(X) = Σ (xi * pX(xi)) dans le cas discret,\n",
    "        \n",
    "        E(X) = ∫ (x * fX(x) dx) dans le cas continu.\n",
    "        \n",
    "        Du point de vue du graphe de fX (respectivement pX), cette valeur représente le centre de gravité de la distribution.\"\"\"\n",
    "    ],\n",
    "    \"qu'est-ce que l'espérance d'une fonction ?\": [\n",
    "        \"\"\"Soit g(X) une fonction de la v.a. X, alors :\n",
    "        \n",
    "        E(g(X)) = ∫ g(x) fX(x) dx dans le cas continu (si l’intégrale existe),\n",
    "        \n",
    "        E(g(X)) = Σ g(xi) pX(xi) dans le cas discret (si la somme existe).\n",
    "        \n",
    "        On voit donc que pour le calcul de E(g(X)), il suffit de remplacer la valeur de x par g(x) (ou xi par g(xi)).\"\"\"\n",
    "    ]\n",
    "}\n"
   ]
  },
  {
   "cell_type": "code",
   "execution_count": 161,
   "id": "8c775607-43d6-47b8-94e8-54021da1ee72",
   "metadata": {},
   "outputs": [],
   "source": [
    "# Exemple de texte détaillé pour certaines questions\n",
    "text_data = {\n",
    "    \"variable aléatoire\": \"\"\"On parle de variable aléatoire (abréviation : v.a.) lorsque les résultats sont numériques, \n",
    "    c'est-à-dire que chaque résultat d'une expérience aléatoire peut être associé à un nombre réel.\"\"\",\n",
    "    \n",
    "    \"fonction de répartition\": \"\"\"Soit X une variable aléatoire, on appelle fonction de répartition de X, que l’on note F_X, \n",
    "    la fonction définie sur R par : F_X(x) = P(X ≤ x).\"\"\",\n",
    "    \n",
    "    \"quantile d'ordre q\": \"\"\"On appelle quantile d’ordre q de la variable X, où q ∈ [0, 1], la valeur xq telle que \n",
    "    P(X ≤ xq) = q ou, de même, FX(xq) = q.\"\"\",\n",
    "    \n",
    "    \"théorie des probabilités\": \"\"\"La théorie des probabilités est une branche des mathématiques qui étudie les phénomènes aléatoires \n",
    "    et peut être utilisée pour modéliser des situations d'incertitude.\"\"\",\n",
    "    \n",
    "    \"espérance mathématique\": \"\"\"On appelle espérance mathématique de X, si elle existe, \n",
    "    la valeur notée E(X) telle que :\n",
    "    \n",
    "    E(X) = Σ (xi * pX(xi)) dans le cas discret,\n",
    "    \n",
    "    E(X) = ∫ (x * fX(x) dx) dans le cas continu.\n",
    "    \n",
    "    Du point de vue du graphe de fX (respectivement pX), cette valeur représente le centre de gravité de la distribution.\"\"\",\n",
    "    \n",
    "    \"espérance d'une fonction\": \"\"\"Soit g(X) une fonction de la v.a X, alors :\n",
    "    \n",
    "    E(g(X)) = ∫ g(x) fX(x) dx dans le cas continu (si l’intégrale existe),\n",
    "    \n",
    "    E(g(X)) = Σ g(xi) pX(xi) dans le cas discret (si la somme existe).\n",
    "    \n",
    "    On voit donc que pour le calcul de E(g(X)), il suffit de remplacer la valeur de x par g(x) (ou xi par g(xi)).\"\"\"\n",
    "}\n"
   ]
  },
  {
   "cell_type": "code",
   "execution_count": 163,
   "id": "39085b87-49bd-4161-931b-08e865704590",
   "metadata": {},
   "outputs": [],
   "source": [
    "def normalize_query(query):\n",
    "    normalized = query.lower().strip().translate(str.maketrans('', '', string.punctuation))\n",
    "    return normalized"
   ]
  },
  {
   "cell_type": "code",
   "execution_count": 165,
   "id": "20fa4e03-8a5a-4294-bc5f-e7b793ac3ce7",
   "metadata": {},
   "outputs": [],
   "source": [
    "def get_most_relevant_sentence(user_query, text_data):\n",
    "    sentences = ' '.join(text_data.values()).split('. ')\n",
    "    sentences.append(user_query)\n",
    "    vectorizer = TfidfVectorizer()\n",
    "    tfidf_matrix = vectorizer.fit_transform(sentences)\n",
    "    cosine_similarities = cosine_similarity(tfidf_matrix[-1], tfidf_matrix[:-1])\n",
    "    most_relevant_index = cosine_similarities.argmax()\n",
    "    return sentences[most_relevant_index]"
   ]
  },
  {
   "cell_type": "code",
   "execution_count": 166,
   "id": "8558e930-12f4-4bbf-adab-45ebf85b6435",
   "metadata": {},
   "outputs": [],
   "source": [
    "def chatbot(user_query):\n",
    "    normalized_query = normalize_query(user_query)\n",
    "    \n",
    "    if \"espérance mathématique\" in normalized_query:\n",
    "        return text_data[\"espérance mathématique\"]\n",
    "    elif \"espérance\" in normalized_query and \"fonction\" in normalized_query:\n",
    "        return text_data[\"espérance d'une fonction\"]\n",
    "    elif \"fonction de répartition\" in normalized_query:\n",
    "        return text_data[\"fonction de répartition\"]\n",
    "    elif \"quantile d'ordre q\" in normalized_query:\n",
    "        return text_data[\"quantile d'ordre q\"]\n",
    "    elif \"théorie des probabilités\" in normalized_query:\n",
    "        return text_data[\"théorie des probabilités\"]\n",
    "    elif \"variable aléatoire\" in normalized_query:  \n",
    "        return text_data[\"variable aléatoire\"]\n",
    "    else:\n",
    "        return get_most_relevant_sentence(user_query, text_data)\n"
   ]
  },
  {
   "cell_type": "code",
   "execution_count": 169,
   "id": "dd13a511-bd67-47f0-a0d0-3ea90ec9a3db",
   "metadata": {},
   "outputs": [
    {
     "name": "stdin",
     "output_type": "stream",
     "text": [
      "Posez votre question (ou tapez 'exit' pour quitter) :  qu'est-ce que l'espérance d'une fonction ?\n"
     ]
    },
    {
     "name": "stdout",
     "output_type": "stream",
     "text": [
      "Soit g(X) une fonction de la v.a X, alors :\n",
      "    \n",
      "    E(g(X)) = ∫ g(x) fX(x) dx dans le cas continu (si l’intégrale existe),\n",
      "    \n",
      "    E(g(X)) = Σ g(xi) pX(xi) dans le cas discret (si la somme existe).\n",
      "    \n",
      "    On voit donc que pour le calcul de E(g(X)), il suffit de remplacer la valeur de x par g(x) (ou xi par g(xi)).\n"
     ]
    }
   ],
   "source": [
    "# Demander une question à l'utilisateur\n",
    "#while True:\n",
    "user_question = input(\"Posez votre question (ou tapez 'exit' pour quitter) : \")\n",
    "    #if user_question.lower() == 'exit':\n",
    "        #break\n",
    "print(chatbot(user_question))"
   ]
  },
  {
   "cell_type": "code",
   "execution_count": null,
   "id": "da8f8cfb-31ee-49d1-b7dd-c534fa556460",
   "metadata": {},
   "outputs": [],
   "source": []
  }
 ],
 "metadata": {
  "kernelspec": {
   "display_name": "Python 3 (ipykernel)",
   "language": "python",
   "name": "python3"
  },
  "language_info": {
   "codemirror_mode": {
    "name": "ipython",
    "version": 3
   },
   "file_extension": ".py",
   "mimetype": "text/x-python",
   "name": "python",
   "nbconvert_exporter": "python",
   "pygments_lexer": "ipython3",
   "version": "3.12.7"
  }
 },
 "nbformat": 4,
 "nbformat_minor": 5
}
